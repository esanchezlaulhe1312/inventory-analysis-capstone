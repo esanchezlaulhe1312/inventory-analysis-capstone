{
 "cells": [
  {
   "cell_type": "code",
   "execution_count": 1,
   "id": "f827847d",
   "metadata": {},
   "outputs": [],
   "source": [
    "import pandas as pd\n",
    "\n",
    "# Solo cargamos columnas clave \n",
    "cols = [\"SalesDate\", \"InventoryId\", \"SalesQuantity\", \"SalesDollars\", \"SalesPrice\", \"Store\",\"Brand\"]\n",
    "df = pd.read_csv(\"C:/Users/esanc/Documents/Projects/GoogleAnalytcs_Capstone/Data/raw/SalesFINAL12312016.csv\", usecols=cols, parse_dates=[\"SalesDate\"])"
   ]
  },
  {
   "cell_type": "code",
   "execution_count": 2,
   "id": "e83effdc",
   "metadata": {},
   "outputs": [],
   "source": [
    "df[\"Quarter\"] = df[\"SalesDate\"].dt.to_period(\"Q\")"
   ]
  },
  {
   "cell_type": "code",
   "execution_count": 3,
   "id": "8cd621b7",
   "metadata": {},
   "outputs": [],
   "source": [
    "for quarter in df[\"Quarter\"].unique():\n",
    "    df_quarter = df[df[\"Quarter\"] == quarter]\n",
    "    df_quarter.to_csv(f\"sales_{quarter}.csv\", index=False)"
   ]
  },
  {
   "cell_type": "code",
   "execution_count": 4,
   "id": "5b5c52c8",
   "metadata": {},
   "outputs": [],
   "source": [
    "df_q1 = df[df[\"Quarter\"] == \"2016Q1\"]\n",
    "df_q2 = df[df[\"Quarter\"] == \"2016Q2\"]\n",
    "df_q3 = df[df[\"Quarter\"] == \"2016Q3\"]\n",
    "df_q4 = df[df[\"Quarter\"] == \"2016Q4\"]"
   ]
  },
  {
   "cell_type": "code",
   "execution_count": 5,
   "id": "b5c69069",
   "metadata": {},
   "outputs": [],
   "source": [
    "df_q1.to_csv(\"Sales_Q1.csv\", index=False)\n",
    "df_q2.to_csv(\"Sales_Q2.csv\", index=False)\n",
    "df_q3.to_csv(\"Sales_Q3.csv\", index=False)\n",
    "df_q4.to_csv(\"Sales_Q4.csv\", index=False)"
   ]
  },
  {
   "cell_type": "code",
   "execution_count": 6,
   "id": "85e82479",
   "metadata": {},
   "outputs": [
    {
     "name": "stdout",
     "output_type": "stream",
     "text": [
      "2758985 3058716 3470661 3537001\n"
     ]
    }
   ],
   "source": [
    "print(len(df_q1), len(df_q2), len(df_q3), len(df_q4))"
   ]
  },
  {
   "cell_type": "code",
   "execution_count": 7,
   "id": "94e178f7",
   "metadata": {},
   "outputs": [],
   "source": [
    "import os\n",
    "os.makedirs(\"Data/processed\", exist_ok=True)\n",
    "\n",
    "df_q1.to_csv(\"C:/Users/esanc/Documents/Projects/GoogleAnalytcs_Capstone/Data/processed/SalesRaw_Q1.csv\", index=False)\n",
    "df_q2.to_csv(\"C:/Users/esanc/Documents/Projects/GoogleAnalytcs_Capstone/Data/processed/SalesRaw_Q2.csv\", index=False)\n",
    "df_q3.to_csv(\"C:/Users/esanc/Documents/Projects/GoogleAnalytcs_Capstone/Data/processed/SalesRaw_Q3.csv\", index=False)\n",
    "df_q4.to_csv(\"C:/Users/esanc/Documents/Projects/GoogleAnalytcs_Capstone/Data/processed/SalesRaw_Q4.csv\", index=False)"
   ]
  },
  {
   "cell_type": "code",
   "execution_count": 8,
   "id": "d5859295",
   "metadata": {},
   "outputs": [
    {
     "data": {
      "text/plain": [
       "<bound method NDFrame.to_csv of                  InventoryId  Store  Brand  SalesQuantity  SalesDollars  \\\n",
       "0        1_HARDERSFIELD_1004      1   1004              1         16.49   \n",
       "1        1_HARDERSFIELD_1004      1   1004              2         32.98   \n",
       "2        1_HARDERSFIELD_1004      1   1004              1         16.49   \n",
       "3        1_HARDERSFIELD_1004      1   1004              1         14.49   \n",
       "4        1_HARDERSFIELD_1005      1   1005              2         69.98   \n",
       "...                      ...    ...    ...            ...           ...   \n",
       "2758980      9_BLACKPOOL_984      9    984              1         25.99   \n",
       "2758981      9_BLACKPOOL_984      9    984              1         25.99   \n",
       "2758982      9_BLACKPOOL_984      9    984              1         25.99   \n",
       "2758983      9_BLACKPOOL_984      9    984              1         25.99   \n",
       "2758984      9_BLACKPOOL_999      9    999              1        119.99   \n",
       "\n",
       "         SalesPrice  SalesDate Quarter  \n",
       "0             16.49 2016-01-01  2016Q1  \n",
       "1             16.49 2016-01-02  2016Q1  \n",
       "2             16.49 2016-01-03  2016Q1  \n",
       "3             14.49 2016-01-08  2016Q1  \n",
       "4             34.99 2016-01-09  2016Q1  \n",
       "...             ...        ...     ...  \n",
       "2758980       25.99 2016-03-16  2016Q1  \n",
       "2758981       25.99 2016-03-18  2016Q1  \n",
       "2758982       25.99 2016-03-19  2016Q1  \n",
       "2758983       25.99 2016-03-20  2016Q1  \n",
       "2758984      119.99 2016-03-20  2016Q1  \n",
       "\n",
       "[2758985 rows x 8 columns]>"
      ]
     },
     "execution_count": 8,
     "metadata": {},
     "output_type": "execute_result"
    }
   ],
   "source": [
    "df_q1.to_csv"
   ]
  }
 ],
 "metadata": {
  "kernelspec": {
   "display_name": "base",
   "language": "python",
   "name": "python3"
  },
  "language_info": {
   "codemirror_mode": {
    "name": "ipython",
    "version": 3
   },
   "file_extension": ".py",
   "mimetype": "text/x-python",
   "name": "python",
   "nbconvert_exporter": "python",
   "pygments_lexer": "ipython3",
   "version": "3.12.7"
  }
 },
 "nbformat": 4,
 "nbformat_minor": 5
}
